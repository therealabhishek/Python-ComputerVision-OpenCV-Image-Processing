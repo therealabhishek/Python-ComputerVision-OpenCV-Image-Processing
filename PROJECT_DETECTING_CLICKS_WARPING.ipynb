{
 "cells": [
  {
   "cell_type": "raw",
   "metadata": {},
   "source": [
    "# In this project we will learn how to detect our mouse clicks.\n",
    "\n",
    "# Using the mouse-clicks we will complete our warp perspective project."
   ]
  },
  {
   "cell_type": "code",
   "execution_count": 1,
   "metadata": {},
   "outputs": [],
   "source": [
    "# importing the required libraries:\n",
    "import cv2\n",
    "import numpy as np\n"
   ]
  },
  {
   "cell_type": "markdown",
   "metadata": {},
   "source": [
    "### detecting mouse clicks:"
   ]
  },
  {
   "cell_type": "code",
   "execution_count": 5,
   "metadata": {},
   "outputs": [
    {
     "name": "stdout",
     "output_type": "stream",
     "text": [
      "88 111\n",
      "188 124\n",
      "98 213\n",
      "190 213\n"
     ]
    }
   ],
   "source": [
    "# creating a function to read mouse clicks and printing the co-ordinates:\n",
    "\n",
    "def mousePoints(event, x, y, flags, params):\n",
    "    if event == cv2.EVENT_LBUTTONDOWN:\n",
    "        print(x,y)\n",
    "\n",
    "\n",
    "# importing the image\n",
    "\n",
    "image = cv2.imread('Resources/cards.jpg')\n",
    "cv2.imshow('Original', image)\n",
    "cv2.setMouseCallback('Original', mousePoints)\n",
    "\n",
    "cv2.waitKey(0)\n",
    "cv2.destroyAllWindows()"
   ]
  },
  {
   "cell_type": "markdown",
   "metadata": {},
   "source": [
    "### detecting mouse clicks and warp image."
   ]
  },
  {
   "cell_type": "code",
   "execution_count": 14,
   "metadata": {},
   "outputs": [
    {
     "ename": "KeyboardInterrupt",
     "evalue": "",
     "output_type": "error",
     "traceback": [
      "\u001b[1;31m---------------------------------------------------------------------------\u001b[0m",
      "\u001b[1;31mKeyboardInterrupt\u001b[0m                         Traceback (most recent call last)",
      "\u001b[1;32m<ipython-input-14-9496dc85cabb>\u001b[0m in \u001b[0;36m<module>\u001b[1;34m\u001b[0m\n\u001b[0;32m     41\u001b[0m \u001b[1;33m\u001b[0m\u001b[0m\n\u001b[0;32m     42\u001b[0m     \u001b[1;31m# plotting images.\u001b[0m\u001b[1;33m\u001b[0m\u001b[1;33m\u001b[0m\u001b[0m\n\u001b[1;32m---> 43\u001b[1;33m     \u001b[0mcv2\u001b[0m\u001b[1;33m.\u001b[0m\u001b[0mimshow\u001b[0m\u001b[1;33m(\u001b[0m\u001b[1;34m'Original'\u001b[0m\u001b[1;33m,\u001b[0m \u001b[0mimage\u001b[0m\u001b[1;33m)\u001b[0m\u001b[1;33m\u001b[0m\u001b[0m\n\u001b[0m\u001b[0;32m     44\u001b[0m     \u001b[0mcv2\u001b[0m\u001b[1;33m.\u001b[0m\u001b[0msetMouseCallback\u001b[0m\u001b[1;33m(\u001b[0m\u001b[1;34m'Original'\u001b[0m\u001b[1;33m,\u001b[0m \u001b[0mmousePoints\u001b[0m\u001b[1;33m)\u001b[0m\u001b[1;33m\u001b[0m\u001b[0m\n\u001b[0;32m     45\u001b[0m     \u001b[1;31m#cv2.imshow('Output Image', imageOutput)\u001b[0m\u001b[1;33m\u001b[0m\u001b[1;33m\u001b[0m\u001b[0m\n",
      "\u001b[1;31mKeyboardInterrupt\u001b[0m: "
     ]
    }
   ],
   "source": [
    "\n",
    "# creating a matrix to store the clicks:\n",
    "circles = np.zeros((4,2), np.int)\n",
    "\n",
    "# defining a counter for clicks:\n",
    "counter = 0\n",
    "\n",
    "# creating a function to read mouse clicks and printing the co-ordinates:\n",
    "\n",
    "def mousePoints(event, x, y, flags, params):\n",
    "    global counter\n",
    "    if event == cv2.EVENT_LBUTTONDOWN:\n",
    "        #print(x,y)\n",
    "        \n",
    "        # storing the x and y values in the circles matrix.\n",
    "        circles[counter] = x,y\n",
    "        counter = counter + 1\n",
    "        print(circles)\n",
    "\n",
    "\n",
    "# reading the image\n",
    "image = cv2.imread('Resources/cards.jpg')\n",
    "\n",
    "while True:\n",
    "    \n",
    "    if counter == 4:\n",
    "        # setting the width and height of the output image\n",
    "        width, height = 225, 325\n",
    "        # extracting co-ordinates of the card whose perspective is to be changed\n",
    "        pts1 = np.float32([circles[0],circles[1],circles[2],circles[3]])\n",
    "        # co-ordinates of output image\n",
    "        pts2 = np.float32([[0,0], [width,0], [0,height], [width,height]])\n",
    "        # transforming the image\n",
    "        matrix = cv2.getPerspectiveTransform(pts1, pts2)\n",
    "        imageOutput = cv2.warpPerspective(image, matrix, (width, height))\n",
    "        \n",
    "        cv2.imshow('Output Image', imageOutput)\n",
    "\n",
    "    # drawing the co-ordinates of the image to be transformed.\n",
    "    for x in range (0,4):\n",
    "        cv2.circle(image,(circles[x][0],circles[x][1]),5,(0,255,0),-1)\n",
    "\n",
    "    # plotting images.\n",
    "    cv2.imshow('Original', image)\n",
    "    cv2.setMouseCallback('Original', mousePoints)\n",
    "    #cv2.imshow('Output Image', imageOutput)\n",
    "    cv2.waitKey(1)\n",
    "    #cv2.destroyAllWindows()"
   ]
  },
  {
   "cell_type": "code",
   "execution_count": null,
   "metadata": {},
   "outputs": [],
   "source": []
  },
  {
   "cell_type": "code",
   "execution_count": null,
   "metadata": {},
   "outputs": [],
   "source": []
  }
 ],
 "metadata": {
  "kernelspec": {
   "display_name": "Python 3",
   "language": "python",
   "name": "python3"
  },
  "language_info": {
   "codemirror_mode": {
    "name": "ipython",
    "version": 3
   },
   "file_extension": ".py",
   "mimetype": "text/x-python",
   "name": "python",
   "nbconvert_exporter": "python",
   "pygments_lexer": "ipython3",
   "version": "3.6.6"
  }
 },
 "nbformat": 4,
 "nbformat_minor": 2
}
