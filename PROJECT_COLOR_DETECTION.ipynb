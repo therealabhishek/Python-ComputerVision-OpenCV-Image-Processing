{
 "cells": [
  {
   "cell_type": "raw",
   "metadata": {},
   "source": [
    "- In this project we will demonstrate how to detect any colored objects having HSV scale with the help of a trackbar.\n",
    "\n",
    "- The project can be replicated in realtime with the help of required change in code.\n"
   ]
  },
  {
   "cell_type": "code",
   "execution_count": 1,
   "metadata": {},
   "outputs": [],
   "source": [
    "# importing the required libraries:\n",
    "\n",
    "import cv2\n",
    "import numpy as np"
   ]
  },
  {
   "cell_type": "code",
   "execution_count": 32,
   "metadata": {},
   "outputs": [],
   "source": [
    "\n",
    "\"\"\"\n",
    "def empty(a):\n",
    "    pass\n",
    "\n",
    "# creating trackbar for our image:\n",
    "cv2.namedWindow(\"HSV\")\n",
    "cv2.resizeWindow(\"HSV\", 640, 240)\n",
    "cv2.createTrackbar(\"Hue min\", \"HSV\", 0, 179, empty)\n",
    "cv2.createTrackbar(\"Hue max\", \"HSV\", 179, 179, empty)\n",
    "cv2.createTrackbar(\"SAT min\", \"HSV\", 0, 255, empty)\n",
    "cv2.createTrackbar(\"SAT max\", \"HSV\", 255, 255, empty)\n",
    "cv2.createTrackbar(\"Value min\", \"HSV\", 0, 255, empty)\n",
    "cv2.createTrackbar(\"Value max\", \"HSV\", 255, 255, empty)\n",
    "\n",
    "\"\"\"\n",
    "\n",
    "\n",
    "# importing the required image and resizing the image:\n",
    "\n",
    "image = cv2.imread('Resources/cup1.jpg') # importing the image\n",
    "h, w, _ = image.shape # extracting the shape and size of the image\n",
    "imageResize = cv2.resize(image, (int(w*0.2), int(h*0.2))) # resizing the image\n",
    "#cv2.imshow('Cup', image) # display original image\n",
    "imageHSV = cv2.cvtColor(imageResize, cv2.COLOR_BGR2HSV) # changing the color from BGR to HSV\n",
    "\n",
    "\"\"\"\n",
    "h_min = cv2.getTrackbarPos(\"Hue min\", \"HSV\")\n",
    "h_max = cv2.getTrackbarPos(\"Hue max\", \"HSV\")\n",
    "s_min = cv2.getTrackbarPos(\"SAT min\", \"HSV\")\n",
    "s_max = cv2.getTrackbarPos(\"SAT max\", \"HSV\")\n",
    "v_min = cv2.getTrackbarPos(\"Value min\", \"HSV\")\n",
    "v_max = cv2.getTrackbarPos(\"Value max\", \"HSV\")\n",
    "\n",
    "\"\"\"\n",
    "\n",
    "lower = np.array([20, 125, 50])\n",
    "upper = np.array([60, 255, 255])\n",
    "mask = cv2.inRange(imageHSV, lower, upper)\n",
    "result = cv2.bitwise_and(imageResize, imageResize, mask = mask)\n",
    "\n",
    "\n",
    "cv2.imshow('Original Cup',imageResize) # display resized image\n",
    "#cv2.imshow('HSV image', imageHSV)\n",
    "cv2.imshow('Mask', mask)\n",
    "cv2.imshow('Result', result)\n",
    "cv2.waitKey(0)\n",
    "cv2.destroyAllWindows()"
   ]
  },
  {
   "cell_type": "code",
   "execution_count": 15,
   "metadata": {},
   "outputs": [],
   "source": []
  },
  {
   "cell_type": "code",
   "execution_count": null,
   "metadata": {},
   "outputs": [],
   "source": []
  },
  {
   "cell_type": "code",
   "execution_count": null,
   "metadata": {},
   "outputs": [],
   "source": []
  },
  {
   "cell_type": "code",
   "execution_count": null,
   "metadata": {},
   "outputs": [],
   "source": []
  }
 ],
 "metadata": {
  "kernelspec": {
   "display_name": "Python 3",
   "language": "python",
   "name": "python3"
  },
  "language_info": {
   "codemirror_mode": {
    "name": "ipython",
    "version": 3
   },
   "file_extension": ".py",
   "mimetype": "text/x-python",
   "name": "python",
   "nbconvert_exporter": "python",
   "pygments_lexer": "ipython3",
   "version": "3.6.6"
  }
 },
 "nbformat": 4,
 "nbformat_minor": 2
}
