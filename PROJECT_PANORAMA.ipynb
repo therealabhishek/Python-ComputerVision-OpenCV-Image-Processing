{
 "cells": [
  {
   "cell_type": "code",
   "execution_count": 7,
   "metadata": {},
   "outputs": [],
   "source": [
    "import cv2\n",
    "#import numpy as np\n",
    "\n",
    "dim = (640, 480)\n",
    "image1 = cv2.imread('Resources/Images/Images/2/1.jpg')\n",
    "image1_f = cv2.resize(image1, (0,0), None, 0.2,0.2)\n",
    "image2 = cv2.imread('Resources/Images/Images/2/2.jpg')\n",
    "image2_f = cv2.resize(image2, (0,0), None, 0.2,0.2)\n",
    "cv2.imshow('Left', image1_f)\n",
    "cv2.imshow('Right', image2_f)\n",
    "cv2.waitKey(0)\n",
    "cv2.destroyAllWindows()"
   ]
  },
  {
   "cell_type": "code",
   "execution_count": 8,
   "metadata": {},
   "outputs": [],
   "source": [
    "\n",
    "pictures = []\n",
    "pictures.append(image1_f)\n",
    "pictures.append(image2_f)\n",
    "\n",
    "stitcher = cv2.Stitcher.create()\n",
    "ret, pano = stitcher.stitch(pictures)\n",
    "\n",
    "if ret == cv2.Stitcher_OK:\n",
    "    cv2.imshow(\"Panorama\", pano)\n",
    "    cv2.waitKey(0)\n",
    "    cv2.destroyAllWindows()\n",
    "else:\n",
    "    print('Error during stitching.')\n"
   ]
  },
  {
   "cell_type": "code",
   "execution_count": null,
   "metadata": {},
   "outputs": [],
   "source": []
  },
  {
   "cell_type": "code",
   "execution_count": null,
   "metadata": {},
   "outputs": [],
   "source": []
  }
 ],
 "metadata": {
  "kernelspec": {
   "display_name": "Python 3",
   "language": "python",
   "name": "python3"
  },
  "language_info": {
   "codemirror_mode": {
    "name": "ipython",
    "version": 3
   },
   "file_extension": ".py",
   "mimetype": "text/x-python",
   "name": "python",
   "nbconvert_exporter": "python",
   "pygments_lexer": "ipython3",
   "version": "3.6.6"
  }
 },
 "nbformat": 4,
 "nbformat_minor": 2
}
